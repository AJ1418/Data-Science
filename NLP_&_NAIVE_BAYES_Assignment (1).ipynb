{
  "nbformat": 4,
  "nbformat_minor": 0,
  "metadata": {
    "colab": {
      "provenance": []
    },
    "kernelspec": {
      "name": "python3",
      "display_name": "Python 3"
    },
    "language_info": {
      "name": "python"
    }
  },
  "cells": [
    {
      "cell_type": "code",
      "execution_count": 2,
      "metadata": {
        "colab": {
          "base_uri": "https://localhost:8080/"
        },
        "id": "AZOJWbOfBJd7",
        "outputId": "7adc3da4-b322-453d-c30c-feacfc16da65"
      },
      "outputs": [
        {
          "output_type": "stream",
          "name": "stdout",
          "text": [
            "Requirement already satisfied: pandas in /usr/local/lib/python3.10/dist-packages (2.2.2)\n",
            "Requirement already satisfied: scikit-learn in /usr/local/lib/python3.10/dist-packages (1.5.2)\n",
            "Requirement already satisfied: nltk in /usr/local/lib/python3.10/dist-packages (3.9.1)\n",
            "Requirement already satisfied: textblob in /usr/local/lib/python3.10/dist-packages (0.17.1)\n",
            "Requirement already satisfied: numpy>=1.22.4 in /usr/local/lib/python3.10/dist-packages (from pandas) (1.26.4)\n",
            "Requirement already satisfied: python-dateutil>=2.8.2 in /usr/local/lib/python3.10/dist-packages (from pandas) (2.8.2)\n",
            "Requirement already satisfied: pytz>=2020.1 in /usr/local/lib/python3.10/dist-packages (from pandas) (2024.2)\n",
            "Requirement already satisfied: tzdata>=2022.7 in /usr/local/lib/python3.10/dist-packages (from pandas) (2024.2)\n",
            "Requirement already satisfied: scipy>=1.6.0 in /usr/local/lib/python3.10/dist-packages (from scikit-learn) (1.13.1)\n",
            "Requirement already satisfied: joblib>=1.2.0 in /usr/local/lib/python3.10/dist-packages (from scikit-learn) (1.4.2)\n",
            "Requirement already satisfied: threadpoolctl>=3.1.0 in /usr/local/lib/python3.10/dist-packages (from scikit-learn) (3.5.0)\n",
            "Requirement already satisfied: click in /usr/local/lib/python3.10/dist-packages (from nltk) (8.1.7)\n",
            "Requirement already satisfied: regex>=2021.8.3 in /usr/local/lib/python3.10/dist-packages (from nltk) (2024.9.11)\n",
            "Requirement already satisfied: tqdm in /usr/local/lib/python3.10/dist-packages (from nltk) (4.66.6)\n",
            "Requirement already satisfied: six>=1.5 in /usr/local/lib/python3.10/dist-packages (from python-dateutil>=2.8.2->pandas) (1.16.0)\n"
          ]
        }
      ],
      "source": [
        "pip install pandas scikit-learn nltk textblob\n"
      ]
    },
    {
      "cell_type": "code",
      "source": [
        "import pandas as pd\n",
        "import numpy as np\n",
        "import re\n",
        "import string\n",
        "from sklearn.model_selection import train_test_split\n",
        "from sklearn.feature_extraction.text import TfidfVectorizer\n",
        "from sklearn.naive_bayes import MultinomialNB\n",
        "from sklearn.metrics import accuracy_score, classification_report, confusion_matrix\n",
        "from textblob import TextBlob\n",
        "import nltk\n",
        "from nltk.corpus import stopwords\n",
        "nltk.download('stopwords')"
      ],
      "metadata": {
        "colab": {
          "base_uri": "https://localhost:8080/"
        },
        "id": "T4FF5TQIBZLC",
        "outputId": "87d22719-71d5-4c5d-a07b-121d259d5591"
      },
      "execution_count": 3,
      "outputs": [
        {
          "output_type": "stream",
          "name": "stderr",
          "text": [
            "[nltk_data] Downloading package stopwords to /root/nltk_data...\n",
            "[nltk_data]   Package stopwords is already up-to-date!\n"
          ]
        },
        {
          "output_type": "execute_result",
          "data": {
            "text/plain": [
              "True"
            ]
          },
          "metadata": {},
          "execution_count": 3
        }
      ]
    },
    {
      "cell_type": "code",
      "source": [
        "import pandas as pd\n",
        "\n",
        "# Adjust this path if needed\n",
        "#file_path = \"/content/blogs.csv\"\n",
        "\n",
        "# Remove error_bad_lines=False, keep on_bad_lines='warn' to print warnings\n",
        "data = pd.read_csv(\"/content/blogs.csv\")\n",
        "# quoting=3 (csv.QUOTE_MINIMAL): Quotes only fields containing special characters"
      ],
      "metadata": {
        "id": "6QJi_KlJBZkd"
      },
      "execution_count": 5,
      "outputs": []
    },
    {
      "cell_type": "code",
      "source": [
        "print(\"Dataset Info:\\n\", data.info())"
      ],
      "metadata": {
        "colab": {
          "base_uri": "https://localhost:8080/"
        },
        "id": "_91yEIJXBZnG",
        "outputId": "4358a9ff-4b27-4005-b971-4c8200d30efe"
      },
      "execution_count": 6,
      "outputs": [
        {
          "output_type": "stream",
          "name": "stdout",
          "text": [
            "<class 'pandas.core.frame.DataFrame'>\n",
            "RangeIndex: 2000 entries, 0 to 1999\n",
            "Data columns (total 2 columns):\n",
            " #   Column  Non-Null Count  Dtype \n",
            "---  ------  --------------  ----- \n",
            " 0   Data    2000 non-null   object\n",
            " 1   Labels  2000 non-null   object\n",
            "dtypes: object(2)\n",
            "memory usage: 31.4+ KB\n",
            "Dataset Info:\n",
            " None\n"
          ]
        }
      ]
    },
    {
      "cell_type": "code",
      "source": [
        "print(\"\\nSample Data:\\n\", data.head())"
      ],
      "metadata": {
        "colab": {
          "base_uri": "https://localhost:8080/"
        },
        "id": "srE_mDHkBZpl",
        "outputId": "fdd5c418-3558-45a5-9e20-981ba2798772"
      },
      "execution_count": 7,
      "outputs": [
        {
          "output_type": "stream",
          "name": "stdout",
          "text": [
            "\n",
            "Sample Data:\n",
            "                                                 Data       Labels\n",
            "0  Path: cantaloupe.srv.cs.cmu.edu!magnesium.club...  alt.atheism\n",
            "1  Newsgroups: alt.atheism\\nPath: cantaloupe.srv....  alt.atheism\n",
            "2  Path: cantaloupe.srv.cs.cmu.edu!das-news.harva...  alt.atheism\n",
            "3  Path: cantaloupe.srv.cs.cmu.edu!magnesium.club...  alt.atheism\n",
            "4  Xref: cantaloupe.srv.cs.cmu.edu alt.atheism:53...  alt.atheism\n"
          ]
        }
      ]
    },
    {
      "cell_type": "code",
      "source": [
        "def preprocess_text(text):\n",
        "    text = text.lower()  # Convert to lowercase\n",
        "    text = re.sub(r'\\[.*?\\]', '', text)  # Remove text in square brackets\n",
        "    text = re.sub(r'http\\S+', '', text)  # Remove URLs\n",
        "    text = re.sub(r'[^\\w\\s]', '', text)  # Remove punctuation\n",
        "    text = text.strip()  # Remove leading/trailing whitespaces\n",
        "    return text\n",
        "\n",
        "data['Processed_Text'] = data['Data'].apply(preprocess_text)\n"
      ],
      "metadata": {
        "id": "I_Roo1EPBZsK"
      },
      "execution_count": 8,
      "outputs": []
    },
    {
      "cell_type": "code",
      "source": [
        "stop_words = set(stopwords.words('english'))\n",
        "data['Processed_Text'] = data['Processed_Text'].apply(\n",
        "    lambda x: ' '.join([word for word in x.split() if word not in stop_words])\n",
        ")\n"
      ],
      "metadata": {
        "id": "XFc1Kc4qBZuo"
      },
      "execution_count": 9,
      "outputs": []
    },
    {
      "cell_type": "code",
      "source": [
        "tfidf_vectorizer = TfidfVectorizer(max_features=5000)\n",
        "X = tfidf_vectorizer.fit_transform(data['Processed_Text']).toarray()\n",
        "y = data['Labels']"
      ],
      "metadata": {
        "id": "U7a0GEhTBZ0B"
      },
      "execution_count": 10,
      "outputs": []
    },
    {
      "cell_type": "code",
      "source": [
        "X_train, X_test, y_train, y_test = train_test_split(X, y, test_size=0.2, random_state=42)"
      ],
      "metadata": {
        "id": "yAA25pEmBZ2f"
      },
      "execution_count": 11,
      "outputs": []
    },
    {
      "cell_type": "code",
      "source": [
        "# Before splitting the data, handle NaN values in 'Labels' column\n",
        "import numpy as np\n",
        "data['Labels'] = data['Labels'].fillna(\"unknown\")  # Example: Fill with 'unknown'\n",
        "# If it is a numerical column\n",
        "# data['Labels'] = data['Labels'].fillna(np.mean(data['Labels']))\n",
        "\n",
        "\n",
        "# Now proceed with creating features and splitting the data\n",
        "tfidf_vectorizer = TfidfVectorizer(max_features=5000)\n",
        "X = tfidf_vectorizer.fit_transform(data['Processed_Text']).toarray()\n",
        "y = data['Labels']\n",
        "\n",
        "X_train, X_test, y_train, y_test = train_test_split(X, y, test_size=0.2, random_state=42)\n",
        "\n",
        "\n",
        "# Now proceed with model training\n",
        "nb_classifier = MultinomialNB()\n",
        "nb_classifier.fit(X_train, y_train)\n"
      ],
      "metadata": {
        "colab": {
          "base_uri": "https://localhost:8080/",
          "height": 80
        },
        "id": "lXpeuz19BaIY",
        "outputId": "10c83289-0edf-419f-c3fc-372e788fc626"
      },
      "execution_count": 12,
      "outputs": [
        {
          "output_type": "execute_result",
          "data": {
            "text/plain": [
              "MultinomialNB()"
            ],
            "text/html": [
              "<style>#sk-container-id-1 {\n",
              "  /* Definition of color scheme common for light and dark mode */\n",
              "  --sklearn-color-text: black;\n",
              "  --sklearn-color-line: gray;\n",
              "  /* Definition of color scheme for unfitted estimators */\n",
              "  --sklearn-color-unfitted-level-0: #fff5e6;\n",
              "  --sklearn-color-unfitted-level-1: #f6e4d2;\n",
              "  --sklearn-color-unfitted-level-2: #ffe0b3;\n",
              "  --sklearn-color-unfitted-level-3: chocolate;\n",
              "  /* Definition of color scheme for fitted estimators */\n",
              "  --sklearn-color-fitted-level-0: #f0f8ff;\n",
              "  --sklearn-color-fitted-level-1: #d4ebff;\n",
              "  --sklearn-color-fitted-level-2: #b3dbfd;\n",
              "  --sklearn-color-fitted-level-3: cornflowerblue;\n",
              "\n",
              "  /* Specific color for light theme */\n",
              "  --sklearn-color-text-on-default-background: var(--sg-text-color, var(--theme-code-foreground, var(--jp-content-font-color1, black)));\n",
              "  --sklearn-color-background: var(--sg-background-color, var(--theme-background, var(--jp-layout-color0, white)));\n",
              "  --sklearn-color-border-box: var(--sg-text-color, var(--theme-code-foreground, var(--jp-content-font-color1, black)));\n",
              "  --sklearn-color-icon: #696969;\n",
              "\n",
              "  @media (prefers-color-scheme: dark) {\n",
              "    /* Redefinition of color scheme for dark theme */\n",
              "    --sklearn-color-text-on-default-background: var(--sg-text-color, var(--theme-code-foreground, var(--jp-content-font-color1, white)));\n",
              "    --sklearn-color-background: var(--sg-background-color, var(--theme-background, var(--jp-layout-color0, #111)));\n",
              "    --sklearn-color-border-box: var(--sg-text-color, var(--theme-code-foreground, var(--jp-content-font-color1, white)));\n",
              "    --sklearn-color-icon: #878787;\n",
              "  }\n",
              "}\n",
              "\n",
              "#sk-container-id-1 {\n",
              "  color: var(--sklearn-color-text);\n",
              "}\n",
              "\n",
              "#sk-container-id-1 pre {\n",
              "  padding: 0;\n",
              "}\n",
              "\n",
              "#sk-container-id-1 input.sk-hidden--visually {\n",
              "  border: 0;\n",
              "  clip: rect(1px 1px 1px 1px);\n",
              "  clip: rect(1px, 1px, 1px, 1px);\n",
              "  height: 1px;\n",
              "  margin: -1px;\n",
              "  overflow: hidden;\n",
              "  padding: 0;\n",
              "  position: absolute;\n",
              "  width: 1px;\n",
              "}\n",
              "\n",
              "#sk-container-id-1 div.sk-dashed-wrapped {\n",
              "  border: 1px dashed var(--sklearn-color-line);\n",
              "  margin: 0 0.4em 0.5em 0.4em;\n",
              "  box-sizing: border-box;\n",
              "  padding-bottom: 0.4em;\n",
              "  background-color: var(--sklearn-color-background);\n",
              "}\n",
              "\n",
              "#sk-container-id-1 div.sk-container {\n",
              "  /* jupyter's `normalize.less` sets `[hidden] { display: none; }`\n",
              "     but bootstrap.min.css set `[hidden] { display: none !important; }`\n",
              "     so we also need the `!important` here to be able to override the\n",
              "     default hidden behavior on the sphinx rendered scikit-learn.org.\n",
              "     See: https://github.com/scikit-learn/scikit-learn/issues/21755 */\n",
              "  display: inline-block !important;\n",
              "  position: relative;\n",
              "}\n",
              "\n",
              "#sk-container-id-1 div.sk-text-repr-fallback {\n",
              "  display: none;\n",
              "}\n",
              "\n",
              "div.sk-parallel-item,\n",
              "div.sk-serial,\n",
              "div.sk-item {\n",
              "  /* draw centered vertical line to link estimators */\n",
              "  background-image: linear-gradient(var(--sklearn-color-text-on-default-background), var(--sklearn-color-text-on-default-background));\n",
              "  background-size: 2px 100%;\n",
              "  background-repeat: no-repeat;\n",
              "  background-position: center center;\n",
              "}\n",
              "\n",
              "/* Parallel-specific style estimator block */\n",
              "\n",
              "#sk-container-id-1 div.sk-parallel-item::after {\n",
              "  content: \"\";\n",
              "  width: 100%;\n",
              "  border-bottom: 2px solid var(--sklearn-color-text-on-default-background);\n",
              "  flex-grow: 1;\n",
              "}\n",
              "\n",
              "#sk-container-id-1 div.sk-parallel {\n",
              "  display: flex;\n",
              "  align-items: stretch;\n",
              "  justify-content: center;\n",
              "  background-color: var(--sklearn-color-background);\n",
              "  position: relative;\n",
              "}\n",
              "\n",
              "#sk-container-id-1 div.sk-parallel-item {\n",
              "  display: flex;\n",
              "  flex-direction: column;\n",
              "}\n",
              "\n",
              "#sk-container-id-1 div.sk-parallel-item:first-child::after {\n",
              "  align-self: flex-end;\n",
              "  width: 50%;\n",
              "}\n",
              "\n",
              "#sk-container-id-1 div.sk-parallel-item:last-child::after {\n",
              "  align-self: flex-start;\n",
              "  width: 50%;\n",
              "}\n",
              "\n",
              "#sk-container-id-1 div.sk-parallel-item:only-child::after {\n",
              "  width: 0;\n",
              "}\n",
              "\n",
              "/* Serial-specific style estimator block */\n",
              "\n",
              "#sk-container-id-1 div.sk-serial {\n",
              "  display: flex;\n",
              "  flex-direction: column;\n",
              "  align-items: center;\n",
              "  background-color: var(--sklearn-color-background);\n",
              "  padding-right: 1em;\n",
              "  padding-left: 1em;\n",
              "}\n",
              "\n",
              "\n",
              "/* Toggleable style: style used for estimator/Pipeline/ColumnTransformer box that is\n",
              "clickable and can be expanded/collapsed.\n",
              "- Pipeline and ColumnTransformer use this feature and define the default style\n",
              "- Estimators will overwrite some part of the style using the `sk-estimator` class\n",
              "*/\n",
              "\n",
              "/* Pipeline and ColumnTransformer style (default) */\n",
              "\n",
              "#sk-container-id-1 div.sk-toggleable {\n",
              "  /* Default theme specific background. It is overwritten whether we have a\n",
              "  specific estimator or a Pipeline/ColumnTransformer */\n",
              "  background-color: var(--sklearn-color-background);\n",
              "}\n",
              "\n",
              "/* Toggleable label */\n",
              "#sk-container-id-1 label.sk-toggleable__label {\n",
              "  cursor: pointer;\n",
              "  display: block;\n",
              "  width: 100%;\n",
              "  margin-bottom: 0;\n",
              "  padding: 0.5em;\n",
              "  box-sizing: border-box;\n",
              "  text-align: center;\n",
              "}\n",
              "\n",
              "#sk-container-id-1 label.sk-toggleable__label-arrow:before {\n",
              "  /* Arrow on the left of the label */\n",
              "  content: \"▸\";\n",
              "  float: left;\n",
              "  margin-right: 0.25em;\n",
              "  color: var(--sklearn-color-icon);\n",
              "}\n",
              "\n",
              "#sk-container-id-1 label.sk-toggleable__label-arrow:hover:before {\n",
              "  color: var(--sklearn-color-text);\n",
              "}\n",
              "\n",
              "/* Toggleable content - dropdown */\n",
              "\n",
              "#sk-container-id-1 div.sk-toggleable__content {\n",
              "  max-height: 0;\n",
              "  max-width: 0;\n",
              "  overflow: hidden;\n",
              "  text-align: left;\n",
              "  /* unfitted */\n",
              "  background-color: var(--sklearn-color-unfitted-level-0);\n",
              "}\n",
              "\n",
              "#sk-container-id-1 div.sk-toggleable__content.fitted {\n",
              "  /* fitted */\n",
              "  background-color: var(--sklearn-color-fitted-level-0);\n",
              "}\n",
              "\n",
              "#sk-container-id-1 div.sk-toggleable__content pre {\n",
              "  margin: 0.2em;\n",
              "  border-radius: 0.25em;\n",
              "  color: var(--sklearn-color-text);\n",
              "  /* unfitted */\n",
              "  background-color: var(--sklearn-color-unfitted-level-0);\n",
              "}\n",
              "\n",
              "#sk-container-id-1 div.sk-toggleable__content.fitted pre {\n",
              "  /* unfitted */\n",
              "  background-color: var(--sklearn-color-fitted-level-0);\n",
              "}\n",
              "\n",
              "#sk-container-id-1 input.sk-toggleable__control:checked~div.sk-toggleable__content {\n",
              "  /* Expand drop-down */\n",
              "  max-height: 200px;\n",
              "  max-width: 100%;\n",
              "  overflow: auto;\n",
              "}\n",
              "\n",
              "#sk-container-id-1 input.sk-toggleable__control:checked~label.sk-toggleable__label-arrow:before {\n",
              "  content: \"▾\";\n",
              "}\n",
              "\n",
              "/* Pipeline/ColumnTransformer-specific style */\n",
              "\n",
              "#sk-container-id-1 div.sk-label input.sk-toggleable__control:checked~label.sk-toggleable__label {\n",
              "  color: var(--sklearn-color-text);\n",
              "  background-color: var(--sklearn-color-unfitted-level-2);\n",
              "}\n",
              "\n",
              "#sk-container-id-1 div.sk-label.fitted input.sk-toggleable__control:checked~label.sk-toggleable__label {\n",
              "  background-color: var(--sklearn-color-fitted-level-2);\n",
              "}\n",
              "\n",
              "/* Estimator-specific style */\n",
              "\n",
              "/* Colorize estimator box */\n",
              "#sk-container-id-1 div.sk-estimator input.sk-toggleable__control:checked~label.sk-toggleable__label {\n",
              "  /* unfitted */\n",
              "  background-color: var(--sklearn-color-unfitted-level-2);\n",
              "}\n",
              "\n",
              "#sk-container-id-1 div.sk-estimator.fitted input.sk-toggleable__control:checked~label.sk-toggleable__label {\n",
              "  /* fitted */\n",
              "  background-color: var(--sklearn-color-fitted-level-2);\n",
              "}\n",
              "\n",
              "#sk-container-id-1 div.sk-label label.sk-toggleable__label,\n",
              "#sk-container-id-1 div.sk-label label {\n",
              "  /* The background is the default theme color */\n",
              "  color: var(--sklearn-color-text-on-default-background);\n",
              "}\n",
              "\n",
              "/* On hover, darken the color of the background */\n",
              "#sk-container-id-1 div.sk-label:hover label.sk-toggleable__label {\n",
              "  color: var(--sklearn-color-text);\n",
              "  background-color: var(--sklearn-color-unfitted-level-2);\n",
              "}\n",
              "\n",
              "/* Label box, darken color on hover, fitted */\n",
              "#sk-container-id-1 div.sk-label.fitted:hover label.sk-toggleable__label.fitted {\n",
              "  color: var(--sklearn-color-text);\n",
              "  background-color: var(--sklearn-color-fitted-level-2);\n",
              "}\n",
              "\n",
              "/* Estimator label */\n",
              "\n",
              "#sk-container-id-1 div.sk-label label {\n",
              "  font-family: monospace;\n",
              "  font-weight: bold;\n",
              "  display: inline-block;\n",
              "  line-height: 1.2em;\n",
              "}\n",
              "\n",
              "#sk-container-id-1 div.sk-label-container {\n",
              "  text-align: center;\n",
              "}\n",
              "\n",
              "/* Estimator-specific */\n",
              "#sk-container-id-1 div.sk-estimator {\n",
              "  font-family: monospace;\n",
              "  border: 1px dotted var(--sklearn-color-border-box);\n",
              "  border-radius: 0.25em;\n",
              "  box-sizing: border-box;\n",
              "  margin-bottom: 0.5em;\n",
              "  /* unfitted */\n",
              "  background-color: var(--sklearn-color-unfitted-level-0);\n",
              "}\n",
              "\n",
              "#sk-container-id-1 div.sk-estimator.fitted {\n",
              "  /* fitted */\n",
              "  background-color: var(--sklearn-color-fitted-level-0);\n",
              "}\n",
              "\n",
              "/* on hover */\n",
              "#sk-container-id-1 div.sk-estimator:hover {\n",
              "  /* unfitted */\n",
              "  background-color: var(--sklearn-color-unfitted-level-2);\n",
              "}\n",
              "\n",
              "#sk-container-id-1 div.sk-estimator.fitted:hover {\n",
              "  /* fitted */\n",
              "  background-color: var(--sklearn-color-fitted-level-2);\n",
              "}\n",
              "\n",
              "/* Specification for estimator info (e.g. \"i\" and \"?\") */\n",
              "\n",
              "/* Common style for \"i\" and \"?\" */\n",
              "\n",
              ".sk-estimator-doc-link,\n",
              "a:link.sk-estimator-doc-link,\n",
              "a:visited.sk-estimator-doc-link {\n",
              "  float: right;\n",
              "  font-size: smaller;\n",
              "  line-height: 1em;\n",
              "  font-family: monospace;\n",
              "  background-color: var(--sklearn-color-background);\n",
              "  border-radius: 1em;\n",
              "  height: 1em;\n",
              "  width: 1em;\n",
              "  text-decoration: none !important;\n",
              "  margin-left: 1ex;\n",
              "  /* unfitted */\n",
              "  border: var(--sklearn-color-unfitted-level-1) 1pt solid;\n",
              "  color: var(--sklearn-color-unfitted-level-1);\n",
              "}\n",
              "\n",
              ".sk-estimator-doc-link.fitted,\n",
              "a:link.sk-estimator-doc-link.fitted,\n",
              "a:visited.sk-estimator-doc-link.fitted {\n",
              "  /* fitted */\n",
              "  border: var(--sklearn-color-fitted-level-1) 1pt solid;\n",
              "  color: var(--sklearn-color-fitted-level-1);\n",
              "}\n",
              "\n",
              "/* On hover */\n",
              "div.sk-estimator:hover .sk-estimator-doc-link:hover,\n",
              ".sk-estimator-doc-link:hover,\n",
              "div.sk-label-container:hover .sk-estimator-doc-link:hover,\n",
              ".sk-estimator-doc-link:hover {\n",
              "  /* unfitted */\n",
              "  background-color: var(--sklearn-color-unfitted-level-3);\n",
              "  color: var(--sklearn-color-background);\n",
              "  text-decoration: none;\n",
              "}\n",
              "\n",
              "div.sk-estimator.fitted:hover .sk-estimator-doc-link.fitted:hover,\n",
              ".sk-estimator-doc-link.fitted:hover,\n",
              "div.sk-label-container:hover .sk-estimator-doc-link.fitted:hover,\n",
              ".sk-estimator-doc-link.fitted:hover {\n",
              "  /* fitted */\n",
              "  background-color: var(--sklearn-color-fitted-level-3);\n",
              "  color: var(--sklearn-color-background);\n",
              "  text-decoration: none;\n",
              "}\n",
              "\n",
              "/* Span, style for the box shown on hovering the info icon */\n",
              ".sk-estimator-doc-link span {\n",
              "  display: none;\n",
              "  z-index: 9999;\n",
              "  position: relative;\n",
              "  font-weight: normal;\n",
              "  right: .2ex;\n",
              "  padding: .5ex;\n",
              "  margin: .5ex;\n",
              "  width: min-content;\n",
              "  min-width: 20ex;\n",
              "  max-width: 50ex;\n",
              "  color: var(--sklearn-color-text);\n",
              "  box-shadow: 2pt 2pt 4pt #999;\n",
              "  /* unfitted */\n",
              "  background: var(--sklearn-color-unfitted-level-0);\n",
              "  border: .5pt solid var(--sklearn-color-unfitted-level-3);\n",
              "}\n",
              "\n",
              ".sk-estimator-doc-link.fitted span {\n",
              "  /* fitted */\n",
              "  background: var(--sklearn-color-fitted-level-0);\n",
              "  border: var(--sklearn-color-fitted-level-3);\n",
              "}\n",
              "\n",
              ".sk-estimator-doc-link:hover span {\n",
              "  display: block;\n",
              "}\n",
              "\n",
              "/* \"?\"-specific style due to the `<a>` HTML tag */\n",
              "\n",
              "#sk-container-id-1 a.estimator_doc_link {\n",
              "  float: right;\n",
              "  font-size: 1rem;\n",
              "  line-height: 1em;\n",
              "  font-family: monospace;\n",
              "  background-color: var(--sklearn-color-background);\n",
              "  border-radius: 1rem;\n",
              "  height: 1rem;\n",
              "  width: 1rem;\n",
              "  text-decoration: none;\n",
              "  /* unfitted */\n",
              "  color: var(--sklearn-color-unfitted-level-1);\n",
              "  border: var(--sklearn-color-unfitted-level-1) 1pt solid;\n",
              "}\n",
              "\n",
              "#sk-container-id-1 a.estimator_doc_link.fitted {\n",
              "  /* fitted */\n",
              "  border: var(--sklearn-color-fitted-level-1) 1pt solid;\n",
              "  color: var(--sklearn-color-fitted-level-1);\n",
              "}\n",
              "\n",
              "/* On hover */\n",
              "#sk-container-id-1 a.estimator_doc_link:hover {\n",
              "  /* unfitted */\n",
              "  background-color: var(--sklearn-color-unfitted-level-3);\n",
              "  color: var(--sklearn-color-background);\n",
              "  text-decoration: none;\n",
              "}\n",
              "\n",
              "#sk-container-id-1 a.estimator_doc_link.fitted:hover {\n",
              "  /* fitted */\n",
              "  background-color: var(--sklearn-color-fitted-level-3);\n",
              "}\n",
              "</style><div id=\"sk-container-id-1\" class=\"sk-top-container\"><div class=\"sk-text-repr-fallback\"><pre>MultinomialNB()</pre><b>In a Jupyter environment, please rerun this cell to show the HTML representation or trust the notebook. <br />On GitHub, the HTML representation is unable to render, please try loading this page with nbviewer.org.</b></div><div class=\"sk-container\" hidden><div class=\"sk-item\"><div class=\"sk-estimator fitted sk-toggleable\"><input class=\"sk-toggleable__control sk-hidden--visually\" id=\"sk-estimator-id-1\" type=\"checkbox\" checked><label for=\"sk-estimator-id-1\" class=\"sk-toggleable__label fitted sk-toggleable__label-arrow fitted\">&nbsp;&nbsp;MultinomialNB<a class=\"sk-estimator-doc-link fitted\" rel=\"noreferrer\" target=\"_blank\" href=\"https://scikit-learn.org/1.5/modules/generated/sklearn.naive_bayes.MultinomialNB.html\">?<span>Documentation for MultinomialNB</span></a><span class=\"sk-estimator-doc-link fitted\">i<span>Fitted</span></span></label><div class=\"sk-toggleable__content fitted\"><pre>MultinomialNB()</pre></div> </div></div></div></div>"
            ]
          },
          "metadata": {},
          "execution_count": 12
        }
      ]
    },
    {
      "cell_type": "code",
      "source": [
        "y_pred = nb_classifier.predict(X_test)\n",
        "y_pred"
      ],
      "metadata": {
        "colab": {
          "base_uri": "https://localhost:8080/"
        },
        "id": "wTsylJZ_Ht6t",
        "outputId": "3ab95b0e-da34-4598-b3ed-32f8d09dac43"
      },
      "execution_count": 13,
      "outputs": [
        {
          "output_type": "execute_result",
          "data": {
            "text/plain": [
              "array(['talk.politics.misc', 'comp.sys.ibm.pc.hardware', 'sci.med',\n",
              "       'rec.sport.baseball', 'sci.electronics', 'sci.electronics',\n",
              "       'rec.sport.baseball', 'talk.politics.mideast', 'alt.atheism',\n",
              "       'sci.med', 'alt.atheism', 'sci.med', 'sci.crypt', 'comp.windows.x',\n",
              "       'comp.sys.ibm.pc.hardware', 'comp.os.ms-windows.misc', 'rec.autos',\n",
              "       'comp.graphics', 'talk.politics.guns', 'talk.politics.misc',\n",
              "       'comp.sys.mac.hardware', 'alt.atheism', 'alt.atheism',\n",
              "       'rec.sport.hockey', 'alt.atheism', 'sci.crypt',\n",
              "       'talk.politics.misc', 'rec.sport.baseball', 'rec.autos',\n",
              "       'alt.atheism', 'rec.sport.baseball', 'rec.sport.hockey',\n",
              "       'comp.windows.x', 'rec.sport.baseball', 'rec.sport.hockey',\n",
              "       'comp.sys.mac.hardware', 'sci.med', 'sci.electronics',\n",
              "       'rec.sport.hockey', 'comp.os.ms-windows.misc',\n",
              "       'comp.sys.ibm.pc.hardware', 'soc.religion.christian',\n",
              "       'comp.os.ms-windows.misc', 'rec.sport.baseball',\n",
              "       'soc.religion.christian', 'rec.motorcycles', 'comp.windows.x',\n",
              "       'rec.motorcycles', 'alt.atheism', 'talk.politics.guns',\n",
              "       'soc.religion.christian', 'comp.os.ms-windows.misc', 'sci.space',\n",
              "       'comp.os.ms-windows.misc', 'rec.sport.baseball',\n",
              "       'talk.politics.mideast', 'sci.electronics', 'talk.politics.guns',\n",
              "       'sci.crypt', 'comp.sys.ibm.pc.hardware', 'sci.space',\n",
              "       'misc.forsale', 'talk.politics.guns', 'rec.sport.hockey',\n",
              "       'talk.politics.guns', 'talk.politics.misc', 'rec.sport.baseball',\n",
              "       'soc.religion.christian', 'comp.graphics', 'sci.space',\n",
              "       'sci.space', 'comp.sys.ibm.pc.hardware', 'sci.med',\n",
              "       'rec.sport.hockey', 'rec.motorcycles', 'comp.sys.ibm.pc.hardware',\n",
              "       'talk.politics.guns', 'rec.autos', 'sci.electronics',\n",
              "       'talk.politics.misc', 'alt.atheism', 'rec.motorcycles',\n",
              "       'sci.space', 'soc.religion.christian', 'talk.politics.misc',\n",
              "       'rec.sport.baseball', 'talk.politics.mideast',\n",
              "       'comp.sys.mac.hardware', 'comp.windows.x', 'talk.politics.guns',\n",
              "       'soc.religion.christian', 'talk.politics.mideast',\n",
              "       'comp.os.ms-windows.misc', 'comp.os.ms-windows.misc',\n",
              "       'talk.politics.misc', 'talk.politics.misc', 'misc.forsale',\n",
              "       'sci.electronics', 'soc.religion.christian', 'talk.politics.guns',\n",
              "       'rec.sport.baseball', 'rec.sport.baseball',\n",
              "       'comp.sys.mac.hardware', 'sci.med', 'comp.os.ms-windows.misc',\n",
              "       'rec.motorcycles', 'misc.forsale', 'comp.os.ms-windows.misc',\n",
              "       'misc.forsale', 'comp.windows.x', 'rec.autos', 'misc.forsale',\n",
              "       'rec.sport.hockey', 'talk.politics.mideast', 'rec.autos',\n",
              "       'sci.electronics', 'sci.crypt', 'rec.sport.baseball',\n",
              "       'comp.sys.ibm.pc.hardware', 'sci.electronics',\n",
              "       'talk.religion.misc', 'rec.sport.hockey', 'sci.crypt',\n",
              "       'comp.sys.mac.hardware', 'comp.sys.ibm.pc.hardware',\n",
              "       'soc.religion.christian', 'comp.sys.mac.hardware',\n",
              "       'rec.motorcycles', 'sci.crypt', 'comp.sys.ibm.pc.hardware',\n",
              "       'talk.religion.misc', 'talk.politics.misc', 'rec.autos',\n",
              "       'comp.windows.x', 'rec.motorcycles', 'rec.sport.baseball',\n",
              "       'alt.atheism', 'alt.atheism', 'talk.politics.guns',\n",
              "       'soc.religion.christian', 'sci.med', 'comp.sys.ibm.pc.hardware',\n",
              "       'talk.politics.misc', 'rec.motorcycles', 'soc.religion.christian',\n",
              "       'comp.windows.x', 'misc.forsale', 'comp.sys.mac.hardware',\n",
              "       'comp.os.ms-windows.misc', 'comp.graphics', 'talk.politics.guns',\n",
              "       'rec.sport.baseball', 'misc.forsale', 'sci.crypt',\n",
              "       'comp.sys.ibm.pc.hardware', 'comp.os.ms-windows.misc',\n",
              "       'comp.windows.x', 'talk.politics.guns', 'comp.windows.x',\n",
              "       'talk.politics.guns', 'misc.forsale', 'rec.motorcycles',\n",
              "       'comp.graphics', 'sci.crypt', 'talk.religion.misc', 'sci.space',\n",
              "       'talk.politics.mideast', 'sci.electronics',\n",
              "       'comp.sys.mac.hardware', 'talk.politics.mideast', 'sci.crypt',\n",
              "       'misc.forsale', 'alt.atheism', 'talk.politics.misc',\n",
              "       'comp.sys.mac.hardware', 'sci.med', 'rec.autos', 'sci.med',\n",
              "       'rec.motorcycles', 'soc.religion.christian', 'sci.electronics',\n",
              "       'rec.autos', 'talk.politics.misc', 'sci.crypt', 'rec.motorcycles',\n",
              "       'rec.autos', 'alt.atheism', 'talk.politics.guns', 'sci.crypt',\n",
              "       'sci.electronics', 'rec.autos', 'comp.os.ms-windows.misc',\n",
              "       'sci.med', 'comp.os.ms-windows.misc', 'talk.religion.misc',\n",
              "       'comp.sys.mac.hardware', 'sci.crypt', 'rec.motorcycles',\n",
              "       'misc.forsale', 'soc.religion.christian', 'talk.politics.misc',\n",
              "       'comp.windows.x', 'comp.graphics', 'rec.autos',\n",
              "       'comp.sys.mac.hardware', 'comp.os.ms-windows.misc', 'sci.space',\n",
              "       'comp.graphics', 'rec.sport.hockey', 'alt.atheism',\n",
              "       'talk.politics.mideast', 'alt.atheism', 'comp.os.ms-windows.misc',\n",
              "       'comp.graphics', 'rec.autos', 'talk.politics.misc', 'sci.crypt',\n",
              "       'comp.sys.ibm.pc.hardware', 'comp.sys.mac.hardware',\n",
              "       'sci.electronics', 'rec.sport.baseball', 'comp.graphics',\n",
              "       'comp.windows.x', 'sci.crypt', 'talk.politics.misc',\n",
              "       'talk.religion.misc', 'comp.sys.mac.hardware', 'comp.graphics',\n",
              "       'talk.politics.guns', 'comp.sys.ibm.pc.hardware', 'alt.atheism',\n",
              "       'comp.os.ms-windows.misc', 'talk.politics.guns',\n",
              "       'talk.politics.guns', 'talk.politics.mideast',\n",
              "       'comp.sys.ibm.pc.hardware', 'rec.sport.hockey', 'rec.motorcycles',\n",
              "       'sci.med', 'comp.windows.x', 'rec.autos', 'soc.religion.christian',\n",
              "       'comp.windows.x', 'rec.sport.baseball', 'sci.med', 'comp.graphics',\n",
              "       'rec.motorcycles', 'talk.religion.misc', 'rec.motorcycles',\n",
              "       'comp.windows.x', 'rec.sport.hockey', 'comp.sys.ibm.pc.hardware',\n",
              "       'sci.crypt', 'comp.sys.ibm.pc.hardware', 'sci.space',\n",
              "       'rec.sport.hockey', 'comp.windows.x', 'misc.forsale',\n",
              "       'talk.politics.misc', 'misc.forsale', 'alt.atheism',\n",
              "       'soc.religion.christian', 'alt.atheism', 'alt.atheism',\n",
              "       'rec.sport.hockey', 'soc.religion.christian', 'misc.forsale',\n",
              "       'comp.graphics', 'comp.os.ms-windows.misc', 'rec.sport.hockey',\n",
              "       'sci.med', 'alt.atheism', 'comp.sys.mac.hardware',\n",
              "       'talk.politics.guns', 'alt.atheism', 'alt.atheism',\n",
              "       'sci.electronics', 'comp.sys.mac.hardware', 'sci.space',\n",
              "       'comp.sys.ibm.pc.hardware', 'alt.atheism', 'sci.space',\n",
              "       'misc.forsale', 'sci.med', 'sci.med', 'alt.atheism',\n",
              "       'comp.os.ms-windows.misc', 'talk.politics.mideast', 'alt.atheism',\n",
              "       'comp.graphics', 'sci.electronics', 'soc.religion.christian',\n",
              "       'sci.space', 'talk.politics.guns', 'comp.windows.x',\n",
              "       'comp.sys.ibm.pc.hardware', 'talk.religion.misc',\n",
              "       'talk.politics.mideast', 'talk.politics.misc',\n",
              "       'comp.sys.mac.hardware', 'comp.windows.x', 'alt.atheism',\n",
              "       'talk.politics.guns', 'rec.sport.baseball', 'rec.autos',\n",
              "       'talk.religion.misc', 'sci.crypt', 'sci.med', 'rec.sport.baseball',\n",
              "       'alt.atheism', 'rec.sport.hockey', 'talk.politics.guns',\n",
              "       'sci.electronics', 'rec.sport.baseball', 'rec.sport.hockey',\n",
              "       'comp.graphics', 'soc.religion.christian',\n",
              "       'soc.religion.christian', 'talk.politics.misc',\n",
              "       'soc.religion.christian', 'alt.atheism', 'talk.politics.guns',\n",
              "       'comp.graphics', 'comp.sys.ibm.pc.hardware', 'rec.sport.baseball',\n",
              "       'comp.windows.x', 'talk.religion.misc', 'misc.forsale',\n",
              "       'talk.politics.guns', 'rec.autos', 'comp.sys.ibm.pc.hardware',\n",
              "       'comp.sys.ibm.pc.hardware', 'soc.religion.christian',\n",
              "       'comp.windows.x', 'comp.sys.ibm.pc.hardware',\n",
              "       'talk.politics.mideast', 'comp.os.ms-windows.misc',\n",
              "       'comp.graphics', 'sci.crypt', 'talk.politics.mideast', 'sci.space',\n",
              "       'comp.sys.ibm.pc.hardware', 'alt.atheism', 'rec.motorcycles',\n",
              "       'comp.windows.x', 'talk.politics.guns', 'comp.sys.ibm.pc.hardware',\n",
              "       'alt.atheism', 'soc.religion.christian', 'rec.sport.baseball',\n",
              "       'comp.graphics', 'comp.sys.mac.hardware', 'sci.space',\n",
              "       'talk.politics.guns', 'comp.graphics', 'comp.windows.x',\n",
              "       'talk.politics.mideast', 'talk.politics.mideast', 'sci.med',\n",
              "       'sci.crypt', 'comp.sys.mac.hardware', 'comp.sys.ibm.pc.hardware',\n",
              "       'rec.autos', 'misc.forsale', 'misc.forsale',\n",
              "       'comp.sys.mac.hardware', 'talk.politics.mideast',\n",
              "       'sci.electronics', 'sci.crypt', 'comp.os.ms-windows.misc',\n",
              "       'soc.religion.christian', 'talk.politics.misc', 'alt.atheism',\n",
              "       'rec.sport.baseball', 'soc.religion.christian',\n",
              "       'soc.religion.christian', 'comp.sys.mac.hardware',\n",
              "       'talk.politics.mideast', 'talk.politics.misc', 'sci.space',\n",
              "       'sci.space', 'sci.electronics', 'comp.sys.mac.hardware',\n",
              "       'talk.politics.guns', 'comp.graphics', 'rec.autos',\n",
              "       'comp.graphics', 'sci.space', 'misc.forsale',\n",
              "       'soc.religion.christian', 'talk.politics.mideast',\n",
              "       'talk.politics.guns', 'comp.sys.mac.hardware', 'rec.autos',\n",
              "       'comp.windows.x', 'rec.sport.baseball', 'rec.autos',\n",
              "       'talk.politics.mideast', 'comp.sys.ibm.pc.hardware',\n",
              "       'comp.windows.x'], dtype='<U24')"
            ]
          },
          "metadata": {},
          "execution_count": 13
        }
      ]
    },
    {
      "cell_type": "code",
      "source": [
        "print(\"\\nModel Performance:\")\n",
        "print(\"Accuracy:\", accuracy_score(y_test, y_pred))\n",
        "print(\"\\nClassification Report:\\n\", classification_report(y_test, y_pred))\n",
        "print(\"\\nConfusion Matrix:\\n\", confusion_matrix(y_test, y_pred))"
      ],
      "metadata": {
        "colab": {
          "base_uri": "https://localhost:8080/"
        },
        "id": "NxO4iEOzHt9P",
        "outputId": "3088bee3-b91f-4ad4-ae26-2a7139927f8c"
      },
      "execution_count": 14,
      "outputs": [
        {
          "output_type": "stream",
          "name": "stdout",
          "text": [
            "\n",
            "Model Performance:\n",
            "Accuracy: 0.825\n",
            "\n",
            "Classification Report:\n",
            "                           precision    recall  f1-score   support\n",
            "\n",
            "             alt.atheism       0.50      0.83      0.62        18\n",
            "           comp.graphics       0.79      0.83      0.81        18\n",
            " comp.os.ms-windows.misc       0.90      0.82      0.86        22\n",
            "comp.sys.ibm.pc.hardware       0.77      0.80      0.78        25\n",
            "   comp.sys.mac.hardware       0.86      0.90      0.88        21\n",
            "          comp.windows.x       0.91      0.84      0.88        25\n",
            "            misc.forsale       0.78      0.78      0.78        18\n",
            "               rec.autos       0.89      0.94      0.92        18\n",
            "         rec.motorcycles       0.94      0.94      0.94        16\n",
            "      rec.sport.baseball       0.74      0.94      0.83        18\n",
            "        rec.sport.hockey       0.94      1.00      0.97        15\n",
            "               sci.crypt       0.95      0.95      0.95        19\n",
            "         sci.electronics       0.65      0.69      0.67        16\n",
            "                 sci.med       0.88      0.88      0.88        17\n",
            "               sci.space       1.00      0.76      0.86        21\n",
            "  soc.religion.christian       0.88      0.96      0.92        23\n",
            "      talk.politics.guns       0.85      0.79      0.81        28\n",
            "   talk.politics.mideast       1.00      0.95      0.97        20\n",
            "      talk.politics.misc       0.80      0.89      0.84        18\n",
            "      talk.religion.misc       0.56      0.21      0.30        24\n",
            "\n",
            "                accuracy                           0.82       400\n",
            "               macro avg       0.83      0.84      0.82       400\n",
            "            weighted avg       0.83      0.82      0.82       400\n",
            "\n",
            "\n",
            "Confusion Matrix:\n",
            " [[15  0  0  0  0  0  0  0  0  0  0  1  0  0  0  0  0  0  0  2]\n",
            " [ 0 15  1  1  0  0  1  0  0  0  0  0  0  0  0  0  0  0  0  0]\n",
            " [ 0  0 18  2  1  1  0  0  0  0  0  0  0  0  0  0  0  0  0  0]\n",
            " [ 0  0  1 20  0  0  1  0  0  0  0  0  3  0  0  0  0  0  0  0]\n",
            " [ 0  0  0  2 19  0  0  0  0  0  0  0  0  0  0  0  0  0  0  0]\n",
            " [ 0  2  0  1  0 21  0  0  0  1  0  0  0  0  0  0  0  0  0  0]\n",
            " [ 0  0  0  0  1  0 14  1  0  1  0  0  1  0  0  0  0  0  0  0]\n",
            " [ 0  0  0  0  0  0  0 17  1  0  0  0  0  0  0  0  0  0  0  0]\n",
            " [ 0  0  0  0  0  0  0  0 15  0  0  0  1  0  0  0  0  0  0  0]\n",
            " [ 0  0  0  0  0  0  0  0  0 17  1  0  0  0  0  0  0  0  0  0]\n",
            " [ 0  0  0  0  0  0  0  0  0  0 15  0  0  0  0  0  0  0  0  0]\n",
            " [ 0  0  0  0  0  0  0  0  0  0  0 18  0  0  0  0  0  0  1  0]\n",
            " [ 0  0  0  0  1  0  1  1  0  1  0  0 11  1  0  0  0  0  0  0]\n",
            " [ 0  1  0  0  0  1  0  0  0  0  0  0  0 15  0  0  0  0  0  0]\n",
            " [ 0  1  0  0  0  0  1  0  0  2  0  0  0  0 16  0  1  0  0  0]\n",
            " [ 1  0  0  0  0  0  0  0  0  0  0  0  0  0  0 22  0  0  0  0]\n",
            " [ 1  0  0  0  0  0  0  0  0  0  0  0  1  1  0  1 22  0  2  0]\n",
            " [ 0  0  0  0  0  0  0  0  0  1  0  0  0  0  0  0  0 19  0  0]\n",
            " [ 0  0  0  0  0  0  0  0  0  0  0  0  0  0  0  0  0  0 16  2]\n",
            " [13  0  0  0  0  0  0  0  0  0  0  0  0  0  0  2  3  0  1  5]]\n"
          ]
        }
      ]
    },
    {
      "cell_type": "code",
      "source": [
        "!pip install seaborn\n",
        "import seaborn as sns\n",
        "import matplotlib.pyplot as plt\n",
        "import numpy as np\n",
        "from sklearn.metrics import confusion_matrix"
      ],
      "metadata": {
        "colab": {
          "base_uri": "https://localhost:8080/"
        },
        "id": "w75h5LtEHuE2",
        "outputId": "8b7723a3-3007-445c-9d1c-6210e974426d"
      },
      "execution_count": 15,
      "outputs": [
        {
          "output_type": "stream",
          "name": "stdout",
          "text": [
            "Requirement already satisfied: seaborn in /usr/local/lib/python3.10/dist-packages (0.13.2)\n",
            "Requirement already satisfied: numpy!=1.24.0,>=1.20 in /usr/local/lib/python3.10/dist-packages (from seaborn) (1.26.4)\n",
            "Requirement already satisfied: pandas>=1.2 in /usr/local/lib/python3.10/dist-packages (from seaborn) (2.2.2)\n",
            "Requirement already satisfied: matplotlib!=3.6.1,>=3.4 in /usr/local/lib/python3.10/dist-packages (from seaborn) (3.8.0)\n",
            "Requirement already satisfied: contourpy>=1.0.1 in /usr/local/lib/python3.10/dist-packages (from matplotlib!=3.6.1,>=3.4->seaborn) (1.3.1)\n",
            "Requirement already satisfied: cycler>=0.10 in /usr/local/lib/python3.10/dist-packages (from matplotlib!=3.6.1,>=3.4->seaborn) (0.12.1)\n",
            "Requirement already satisfied: fonttools>=4.22.0 in /usr/local/lib/python3.10/dist-packages (from matplotlib!=3.6.1,>=3.4->seaborn) (4.55.0)\n",
            "Requirement already satisfied: kiwisolver>=1.0.1 in /usr/local/lib/python3.10/dist-packages (from matplotlib!=3.6.1,>=3.4->seaborn) (1.4.7)\n",
            "Requirement already satisfied: packaging>=20.0 in /usr/local/lib/python3.10/dist-packages (from matplotlib!=3.6.1,>=3.4->seaborn) (24.2)\n",
            "Requirement already satisfied: pillow>=6.2.0 in /usr/local/lib/python3.10/dist-packages (from matplotlib!=3.6.1,>=3.4->seaborn) (11.0.0)\n",
            "Requirement already satisfied: pyparsing>=2.3.1 in /usr/local/lib/python3.10/dist-packages (from matplotlib!=3.6.1,>=3.4->seaborn) (3.2.0)\n",
            "Requirement already satisfied: python-dateutil>=2.7 in /usr/local/lib/python3.10/dist-packages (from matplotlib!=3.6.1,>=3.4->seaborn) (2.8.2)\n",
            "Requirement already satisfied: pytz>=2020.1 in /usr/local/lib/python3.10/dist-packages (from pandas>=1.2->seaborn) (2024.2)\n",
            "Requirement already satisfied: tzdata>=2022.7 in /usr/local/lib/python3.10/dist-packages (from pandas>=1.2->seaborn) (2024.2)\n",
            "Requirement already satisfied: six>=1.5 in /usr/local/lib/python3.10/dist-packages (from python-dateutil>=2.7->matplotlib!=3.6.1,>=3.4->seaborn) (1.16.0)\n"
          ]
        }
      ]
    },
    {
      "cell_type": "code",
      "source": [
        "sns.heatmap(confusion_matrix(y_test, y_pred), annot=True, fmt='d', cmap='Blues', xticklabels=np.unique(y), yticklabels=np.unique(y))\n",
        "plt.title(\"Confusion Matrix\")\n",
        "plt.xlabel(\"Predicted\")\n",
        "plt.ylabel(\"Actual\")\n",
        "plt.show()"
      ],
      "metadata": {
        "colab": {
          "base_uri": "https://localhost:8080/",
          "height": 604
        },
        "id": "8e4W0R10HuHN",
        "outputId": "9733a98a-b7c6-4f47-9a3b-f3225eab2bda"
      },
      "execution_count": 16,
      "outputs": [
        {
          "output_type": "display_data",
          "data": {
            "text/plain": [
              "<Figure size 640x480 with 2 Axes>"
            ],
            "image/png": "[encoded data removed]"
          },
          "metadata": {}
        }
      ]
    },
    {
      "cell_type": "code",
      "source": [
        "def analyze_sentiment(text):\n",
        "    polarity = TextBlob(text).sentiment.polarity\n",
        "    if polarity > 0:\n",
        "        return \"Positive\"\n",
        "    elif polarity < 0:\n",
        "        return \"Negative\"\n",
        "    else:\n",
        "        return \"Neutral\"\n",
        "\n",
        "data['Sentiment'] = data['Data'].apply(analyze_sentiment)"
      ],
      "metadata": {
        "id": "-kAqooJDHuJg"
      },
      "execution_count": 17,
      "outputs": []
    },
    {
      "cell_type": "code",
      "source": [
        "sentiment_distribution = data['Sentiment'].value_counts(normalize=True)\n",
        "print(\"\\nSentiment Distribution:\\n\", sentiment_distribution)\n"
      ],
      "metadata": {
        "colab": {
          "base_uri": "https://localhost:8080/"
        },
        "id": "E5A_rgEiHuLs",
        "outputId": "fef4c479-8c29-4c27-eb71-cb5cae1a60d2"
      },
      "execution_count": 18,
      "outputs": [
        {
          "output_type": "stream",
          "name": "stdout",
          "text": [
            "\n",
            "Sentiment Distribution:\n",
            " Sentiment\n",
            "Positive    0.7715\n",
            "Negative    0.2285\n",
            "Name: proportion, dtype: float64\n"
          ]
        }
      ]
    },
    {
      "cell_type": "code",
      "source": [
        "sentiment_by_category = data.groupby('Labels')['Sentiment'].value_counts(normalize=True).unstack()\n",
        "print(\"\\nSentiment Distribution by Category:\\n\", sentiment_by_category)"
      ],
      "metadata": {
        "colab": {
          "base_uri": "https://localhost:8080/"
        },
        "id": "BTnZydE5MT4M",
        "outputId": "6a399663-8b25-462a-a652-5e86ef423b97"
      },
      "execution_count": 19,
      "outputs": [
        {
          "output_type": "stream",
          "name": "stdout",
          "text": [
            "\n",
            "Sentiment Distribution by Category:\n",
            " Sentiment                 Negative  Positive\n",
            "Labels                                      \n",
            "alt.atheism                   0.23      0.77\n",
            "comp.graphics                 0.24      0.76\n",
            "comp.os.ms-windows.misc       0.22      0.78\n",
            "comp.sys.ibm.pc.hardware      0.20      0.80\n",
            "comp.sys.mac.hardware         0.24      0.76\n",
            "comp.windows.x                0.27      0.73\n",
            "misc.forsale                  0.16      0.84\n",
            "rec.autos                     0.17      0.83\n",
            "rec.motorcycles               0.26      0.74\n",
            "rec.sport.baseball            0.29      0.71\n",
            "rec.sport.hockey              0.34      0.66\n",
            "sci.crypt                     0.19      0.81\n",
            "sci.electronics               0.19      0.81\n",
            "sci.med                       0.29      0.71\n",
            "sci.space                     0.27      0.73\n",
            "soc.religion.christian        0.13      0.87\n",
            "talk.politics.guns            0.30      0.70\n",
            "talk.politics.mideast         0.22      0.78\n",
            "talk.politics.misc            0.22      0.78\n",
            "talk.religion.misc            0.14      0.86\n"
          ]
        }
      ]
    },
    {
      "cell_type": "code",
      "source": [
        "sentiment_distribution.plot(kind='bar', color=['green', 'red', 'gray'])\n",
        "plt.title(\"Overall Sentiment Distribution\")\n",
        "plt.xlabel(\"Sentiment\")\n",
        "plt.ylabel(\"Proportion\")\n",
        "plt.show()"
      ],
      "metadata": {
        "colab": {
          "base_uri": "https://localhost:8080/",
          "height": 520
        },
        "id": "CebQSTdrMT6i",
        "outputId": "70256283-c3d1-4d73-ddf9-2ed73c0ce8c3"
      },
      "execution_count": 20,
      "outputs": [
        {
          "output_type": "display_data",
          "data": {
            "text/plain": [
              "<Figure size 640x480 with 1 Axes>"
            ],
            "image/png": "[encoded data removed]"
          },
          "metadata": {}
        }
      ]
    },
    {
      "cell_type": "code",
      "source": [
        "data.to_csv(\"processed_blogs_with_sentiments.csv\", index=False)"
      ],
      "metadata": {
        "id": "jScozM4OMT8l"
      },
      "execution_count": 21,
      "outputs": []
    },
    {
      "cell_type": "code",
      "source": [],
      "metadata": {
        "id": "iR8xNS5SMUAF"
      },
      "execution_count": null,
      "outputs": []
    },
    {
      "cell_type": "code",
      "source": [],
      "metadata": {
        "id": "OmF5oGN7HuPB"
      },
      "execution_count": null,
      "outputs": []
    },
    {
      "cell_type": "code",
      "source": [],
      "metadata": {
        "id": "qBxtu2evBaLy"
      },
      "execution_count": null,
      "outputs": []
    }
  ]
}