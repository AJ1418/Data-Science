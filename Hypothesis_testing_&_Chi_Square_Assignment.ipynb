{
  "nbformat": 4,
  "nbformat_minor": 0,
  "metadata": {
    "colab": {
      "provenance": [],
      "toc_visible": true
    },
    "kernelspec": {
      "name": "python3",
      "display_name": "Python 3"
    },
    "language_info": {
      "name": "python"
    }
  },
  "cells": [
    {
      "cell_type": "code",
      "execution_count": 1,
      "metadata": {
        "id": "YDusIrMvf4eM"
      },
      "outputs": [],
      "source": [
        "import numpy as np\n",
        "from scipy.stats import norm"
      ]
    },
    {
      "cell_type": "code",
      "source": [
        "sample_mean = 3050\n",
        "theoretical_mean = 1000 + (5 * 600)\n",
        "standard_deviation = 5 * 25\n",
        "sample_size = 25\n",
        "alpha = 0.05"
      ],
      "metadata": {
        "id": "khukME2Mf7cc"
      },
      "execution_count": 2,
      "outputs": []
    },
    {
      "cell_type": "code",
      "source": [
        "Z_statistic = (sample_mean - theoretical_mean) / (standard_deviation )\n",
        "Z_statistic"
      ],
      "metadata": {
        "colab": {
          "base_uri": "https://localhost:8080/"
        },
        "id": "aZw9KR8qf7f_",
        "outputId": "b25753ae-c717-4806-d5ce-d4f142d61359"
      },
      "execution_count": 4,
      "outputs": [
        {
          "output_type": "execute_result",
          "data": {
            "text/plain": [
              "-7.6"
            ]
          },
          "metadata": {},
          "execution_count": 4
        }
      ]
    },
    {
      "cell_type": "code",
      "source": [
        "p_value = norm.cdf(Z_statistic)\n",
        "p_value"
      ],
      "metadata": {
        "colab": {
          "base_uri": "https://localhost:8080/"
        },
        "id": "xbqW66Cif7m5",
        "outputId": "e904bb02-d00b-4436-88dd-84ad679203e7"
      },
      "execution_count": 5,
      "outputs": [
        {
          "output_type": "execute_result",
          "data": {
            "text/plain": [
              "1.480653749004806e-14"
            ]
          },
          "metadata": {},
          "execution_count": 5
        }
      ]
    },
    {
      "cell_type": "code",
      "source": [
        "if p_value < alpha:\n",
        "    print(\"Reject the null hypothesis.\")\n",
        "    print(\"There is strong evidence to support the claim that the weekly operating costs are higher than the model suggests.\")\n",
        "else:\n",
        "    print(\"Fail to reject the null hypothesis.\")\n",
        "    print(\"There is not enough evidence to support the claim that the weekly operating costs are higher than the model suggests.\")\n"
      ],
      "metadata": {
        "colab": {
          "base_uri": "https://localhost:8080/"
        },
        "id": "1ssaYgY-f7pe",
        "outputId": "33782132-2a5c-47ac-fef8-79c28c63e27a"
      },
      "execution_count": 6,
      "outputs": [
        {
          "output_type": "stream",
          "name": "stdout",
          "text": [
            "Reject the null hypothesis.\n",
            "There is strong evidence to support the claim that the weekly operating costs are higher than the model suggests.\n"
          ]
        }
      ]
    },
    {
      "cell_type": "code",
      "source": [
        "print(\"Test Statistic:\", Z_statistic)\n",
        "print(\"P_ Value:\", p_value)\n"
      ],
      "metadata": {
        "colab": {
          "base_uri": "https://localhost:8080/"
        },
        "id": "TZFPxjv4f7sI",
        "outputId": "d94ea1f8-d5eb-447d-841a-4dcb0435d4a3"
      },
      "execution_count": 7,
      "outputs": [
        {
          "output_type": "stream",
          "name": "stdout",
          "text": [
            "Test Statistic: -7.6\n",
            "P_ Value: 1.480653749004806e-14\n"
          ]
        }
      ]
    },
    {
      "cell_type": "code",
      "source": [
        "# Chi-Squaretest"
      ],
      "metadata": {
        "id": "upmVFIGvf7ur"
      },
      "execution_count": null,
      "outputs": []
    },
    {
      "cell_type": "code",
      "source": [
        "import numpy as np\n",
        "from scipy.stats import chi2_contingency,chi2"
      ],
      "metadata": {
        "id": "wGtim5Dhf7xW"
      },
      "execution_count": 8,
      "outputs": []
    },
    {
      "cell_type": "code",
      "source": [
        "observed = np.array([[50, 70, 120],\n",
        "                     [80, 100, 180],\n",
        "                     [60, 90, 150],\n",
        "                     [30, 50, 80],\n",
        "                     [20, 50, 70]])\n"
      ],
      "metadata": {
        "id": "E2n-6cXXf7zz"
      },
      "execution_count": 9,
      "outputs": []
    },
    {
      "cell_type": "code",
      "source": [
        "chi2_stat, p_val, dof, expected = chi2_contingency(observed)"
      ],
      "metadata": {
        "id": "jryA7y2zf72W"
      },
      "execution_count": 10,
      "outputs": []
    },
    {
      "cell_type": "code",
      "source": [
        "print(\"Chi-Square Statistic:\", chi2_stat)\n",
        "print(\"Degrees of Freedom:\", dof)\n",
        "print(\"P-value:\", p_val)"
      ],
      "metadata": {
        "colab": {
          "base_uri": "https://localhost:8080/"
        },
        "id": "HSqFiEIHf757",
        "outputId": "77af2c77-f383-4133-dc9e-8a863358d87a"
      },
      "execution_count": 11,
      "outputs": [
        {
          "output_type": "stream",
          "name": "stdout",
          "text": [
            "Chi-Square Statistic: 5.638227513227513\n",
            "Degrees of Freedom: 8\n",
            "P-value: 0.687682126979996\n"
          ]
        }
      ]
    },
    {
      "cell_type": "code",
      "source": [
        "alpha = 0.05"
      ],
      "metadata": {
        "id": "VqE2Ga14it83"
      },
      "execution_count": 12,
      "outputs": []
    },
    {
      "cell_type": "code",
      "source": [
        "if p_val < alpha:\n",
        "    print(\"Reject the null hypothesis.\")\n",
        "    print(\"There is a significant association between the type of smart home device purchased and the customer satisfaction level.\")\n",
        "else:\n",
        "    print(\"Fail to reject the null hypothesis.\")\n",
        "    print(\"There is no significant association between the type of smart home device purchased and the customer satisfaction level.\")\n"
      ],
      "metadata": {
        "colab": {
          "base_uri": "https://localhost:8080/"
        },
        "id": "weqoZBM5it_N",
        "outputId": "6f2d20ae-e8db-496a-ce32-bb1501bd912c"
      },
      "execution_count": 13,
      "outputs": [
        {
          "output_type": "stream",
          "name": "stdout",
          "text": [
            "Fail to reject the null hypothesis.\n",
            "There is no significant association between the type of smart home device purchased and the customer satisfaction level.\n"
          ]
        }
      ]
    },
    {
      "cell_type": "code",
      "source": [],
      "metadata": {
        "id": "tbQ3EHHDiuBE"
      },
      "execution_count": null,
      "outputs": []
    },
    {
      "cell_type": "code",
      "source": [],
      "metadata": {
        "id": "8WX5DdMMiuEp"
      },
      "execution_count": null,
      "outputs": []
    }
  ]
}